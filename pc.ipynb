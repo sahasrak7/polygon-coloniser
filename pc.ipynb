{
  "nbformat": 4,
  "nbformat_minor": 0,
  "metadata": {
    "colab": {
      "provenance": []
    },
    "kernelspec": {
      "name": "python3",
      "display_name": "Python 3"
    },
    "language_info": {
      "name": "python"
    }
  },
  "cells": [
    {
      "cell_type": "code",
      "execution_count": 1,
      "metadata": {
        "colab": {
          "base_uri": "https://localhost:8080/"
        },
        "id": "kLDhauIHGeqs",
        "outputId": "1b8faa6d-4a80-4a13-bf01-9a2b6fc9e9ca"
      },
      "outputs": [
        {
          "output_type": "stream",
          "name": "stdout",
          "text": [
            "Requirement already satisfied: torch in /usr/local/lib/python3.11/dist-packages (2.6.0+cu124)\n",
            "Requirement already satisfied: torchvision in /usr/local/lib/python3.11/dist-packages (0.21.0+cu124)\n",
            "Requirement already satisfied: filelock in /usr/local/lib/python3.11/dist-packages (from torch) (3.18.0)\n",
            "Requirement already satisfied: typing-extensions>=4.10.0 in /usr/local/lib/python3.11/dist-packages (from torch) (4.14.1)\n",
            "Requirement already satisfied: networkx in /usr/local/lib/python3.11/dist-packages (from torch) (3.5)\n",
            "Requirement already satisfied: jinja2 in /usr/local/lib/python3.11/dist-packages (from torch) (3.1.6)\n",
            "Requirement already satisfied: fsspec in /usr/local/lib/python3.11/dist-packages (from torch) (2025.3.0)\n",
            "Collecting nvidia-cuda-nvrtc-cu12==12.4.127 (from torch)\n",
            "  Downloading nvidia_cuda_nvrtc_cu12-12.4.127-py3-none-manylinux2014_x86_64.whl.metadata (1.5 kB)\n",
            "Collecting nvidia-cuda-runtime-cu12==12.4.127 (from torch)\n",
            "  Downloading nvidia_cuda_runtime_cu12-12.4.127-py3-none-manylinux2014_x86_64.whl.metadata (1.5 kB)\n",
            "Collecting nvidia-cuda-cupti-cu12==12.4.127 (from torch)\n",
            "  Downloading nvidia_cuda_cupti_cu12-12.4.127-py3-none-manylinux2014_x86_64.whl.metadata (1.6 kB)\n",
            "Collecting nvidia-cudnn-cu12==9.1.0.70 (from torch)\n",
            "  Downloading nvidia_cudnn_cu12-9.1.0.70-py3-none-manylinux2014_x86_64.whl.metadata (1.6 kB)\n",
            "Collecting nvidia-cublas-cu12==12.4.5.8 (from torch)\n",
            "  Downloading nvidia_cublas_cu12-12.4.5.8-py3-none-manylinux2014_x86_64.whl.metadata (1.5 kB)\n",
            "Collecting nvidia-cufft-cu12==11.2.1.3 (from torch)\n",
            "  Downloading nvidia_cufft_cu12-11.2.1.3-py3-none-manylinux2014_x86_64.whl.metadata (1.5 kB)\n",
            "Collecting nvidia-curand-cu12==10.3.5.147 (from torch)\n",
            "  Downloading nvidia_curand_cu12-10.3.5.147-py3-none-manylinux2014_x86_64.whl.metadata (1.5 kB)\n",
            "Collecting nvidia-cusolver-cu12==11.6.1.9 (from torch)\n",
            "  Downloading nvidia_cusolver_cu12-11.6.1.9-py3-none-manylinux2014_x86_64.whl.metadata (1.6 kB)\n",
            "Collecting nvidia-cusparse-cu12==12.3.1.170 (from torch)\n",
            "  Downloading nvidia_cusparse_cu12-12.3.1.170-py3-none-manylinux2014_x86_64.whl.metadata (1.6 kB)\n",
            "Requirement already satisfied: nvidia-cusparselt-cu12==0.6.2 in /usr/local/lib/python3.11/dist-packages (from torch) (0.6.2)\n",
            "Requirement already satisfied: nvidia-nccl-cu12==2.21.5 in /usr/local/lib/python3.11/dist-packages (from torch) (2.21.5)\n",
            "Requirement already satisfied: nvidia-nvtx-cu12==12.4.127 in /usr/local/lib/python3.11/dist-packages (from torch) (12.4.127)\n",
            "Collecting nvidia-nvjitlink-cu12==12.4.127 (from torch)\n",
            "  Downloading nvidia_nvjitlink_cu12-12.4.127-py3-none-manylinux2014_x86_64.whl.metadata (1.5 kB)\n",
            "Requirement already satisfied: triton==3.2.0 in /usr/local/lib/python3.11/dist-packages (from torch) (3.2.0)\n",
            "Requirement already satisfied: sympy==1.13.1 in /usr/local/lib/python3.11/dist-packages (from torch) (1.13.1)\n",
            "Requirement already satisfied: mpmath<1.4,>=1.1.0 in /usr/local/lib/python3.11/dist-packages (from sympy==1.13.1->torch) (1.3.0)\n",
            "Requirement already satisfied: numpy in /usr/local/lib/python3.11/dist-packages (from torchvision) (2.0.2)\n",
            "Requirement already satisfied: pillow!=8.3.*,>=5.3.0 in /usr/local/lib/python3.11/dist-packages (from torchvision) (11.3.0)\n",
            "Requirement already satisfied: MarkupSafe>=2.0 in /usr/local/lib/python3.11/dist-packages (from jinja2->torch) (3.0.2)\n",
            "Downloading nvidia_cublas_cu12-12.4.5.8-py3-none-manylinux2014_x86_64.whl (363.4 MB)\n",
            "\u001b[2K   \u001b[90m━━━━━━━━━━━━━━━━━━━━━━━━━━━━━━━━━━━━━━━━\u001b[0m \u001b[32m363.4/363.4 MB\u001b[0m \u001b[31m4.2 MB/s\u001b[0m eta \u001b[36m0:00:00\u001b[0m\n",
            "\u001b[?25hDownloading nvidia_cuda_cupti_cu12-12.4.127-py3-none-manylinux2014_x86_64.whl (13.8 MB)\n",
            "\u001b[2K   \u001b[90m━━━━━━━━━━━━━━━━━━━━━━━━━━━━━━━━━━━━━━━━\u001b[0m \u001b[32m13.8/13.8 MB\u001b[0m \u001b[31m104.6 MB/s\u001b[0m eta \u001b[36m0:00:00\u001b[0m\n",
            "\u001b[?25hDownloading nvidia_cuda_nvrtc_cu12-12.4.127-py3-none-manylinux2014_x86_64.whl (24.6 MB)\n",
            "\u001b[2K   \u001b[90m━━━━━━━━━━━━━━━━━━━━━━━━━━━━━━━━━━━━━━━━\u001b[0m \u001b[32m24.6/24.6 MB\u001b[0m \u001b[31m76.8 MB/s\u001b[0m eta \u001b[36m0:00:00\u001b[0m\n",
            "\u001b[?25hDownloading nvidia_cuda_runtime_cu12-12.4.127-py3-none-manylinux2014_x86_64.whl (883 kB)\n",
            "\u001b[2K   \u001b[90m━━━━━━━━━━━━━━━━━━━━━━━━━━━━━━━━━━━━━━━━\u001b[0m \u001b[32m883.7/883.7 kB\u001b[0m \u001b[31m67.2 MB/s\u001b[0m eta \u001b[36m0:00:00\u001b[0m\n",
            "\u001b[?25hDownloading nvidia_cudnn_cu12-9.1.0.70-py3-none-manylinux2014_x86_64.whl (664.8 MB)\n",
            "\u001b[2K   \u001b[90m━━━━━━━━━━━━━━━━━━━━━━━━━━━━━━━━━━━━━━━━\u001b[0m \u001b[32m664.8/664.8 MB\u001b[0m \u001b[31m3.0 MB/s\u001b[0m eta \u001b[36m0:00:00\u001b[0m\n",
            "\u001b[?25hDownloading nvidia_cufft_cu12-11.2.1.3-py3-none-manylinux2014_x86_64.whl (211.5 MB)\n",
            "\u001b[2K   \u001b[90m━━━━━━━━━━━━━━━━━━━━━━━━━━━━━━━━━━━━━━━━\u001b[0m \u001b[32m211.5/211.5 MB\u001b[0m \u001b[31m5.5 MB/s\u001b[0m eta \u001b[36m0:00:00\u001b[0m\n",
            "\u001b[?25hDownloading nvidia_curand_cu12-10.3.5.147-py3-none-manylinux2014_x86_64.whl (56.3 MB)\n",
            "\u001b[2K   \u001b[90m━━━━━━━━━━━━━━━━━━━━━━━━━━━━━━━━━━━━━━━━\u001b[0m \u001b[32m56.3/56.3 MB\u001b[0m \u001b[31m12.8 MB/s\u001b[0m eta \u001b[36m0:00:00\u001b[0m\n",
            "\u001b[?25hDownloading nvidia_cusolver_cu12-11.6.1.9-py3-none-manylinux2014_x86_64.whl (127.9 MB)\n",
            "\u001b[2K   \u001b[90m━━━━━━━━━━━━━━━━━━━━━━━━━━━━━━━━━━━━━━━━\u001b[0m \u001b[32m127.9/127.9 MB\u001b[0m \u001b[31m7.6 MB/s\u001b[0m eta \u001b[36m0:00:00\u001b[0m\n",
            "\u001b[?25hDownloading nvidia_cusparse_cu12-12.3.1.170-py3-none-manylinux2014_x86_64.whl (207.5 MB)\n",
            "\u001b[2K   \u001b[90m━━━━━━━━━━━━━━━━━━━━━━━━━━━━━━━━━━━━━━━━\u001b[0m \u001b[32m207.5/207.5 MB\u001b[0m \u001b[31m6.7 MB/s\u001b[0m eta \u001b[36m0:00:00\u001b[0m\n",
            "\u001b[?25hDownloading nvidia_nvjitlink_cu12-12.4.127-py3-none-manylinux2014_x86_64.whl (21.1 MB)\n",
            "\u001b[2K   \u001b[90m━━━━━━━━━━━━━━━━━━━━━━━━━━━━━━━━━━━━━━━━\u001b[0m \u001b[32m21.1/21.1 MB\u001b[0m \u001b[31m50.5 MB/s\u001b[0m eta \u001b[36m0:00:00\u001b[0m\n",
            "\u001b[?25hInstalling collected packages: nvidia-nvjitlink-cu12, nvidia-curand-cu12, nvidia-cufft-cu12, nvidia-cuda-runtime-cu12, nvidia-cuda-nvrtc-cu12, nvidia-cuda-cupti-cu12, nvidia-cublas-cu12, nvidia-cusparse-cu12, nvidia-cudnn-cu12, nvidia-cusolver-cu12\n",
            "  Attempting uninstall: nvidia-nvjitlink-cu12\n",
            "    Found existing installation: nvidia-nvjitlink-cu12 12.5.82\n",
            "    Uninstalling nvidia-nvjitlink-cu12-12.5.82:\n",
            "      Successfully uninstalled nvidia-nvjitlink-cu12-12.5.82\n",
            "  Attempting uninstall: nvidia-curand-cu12\n",
            "    Found existing installation: nvidia-curand-cu12 10.3.6.82\n",
            "    Uninstalling nvidia-curand-cu12-10.3.6.82:\n",
            "      Successfully uninstalled nvidia-curand-cu12-10.3.6.82\n",
            "  Attempting uninstall: nvidia-cufft-cu12\n",
            "    Found existing installation: nvidia-cufft-cu12 11.2.3.61\n",
            "    Uninstalling nvidia-cufft-cu12-11.2.3.61:\n",
            "      Successfully uninstalled nvidia-cufft-cu12-11.2.3.61\n",
            "  Attempting uninstall: nvidia-cuda-runtime-cu12\n",
            "    Found existing installation: nvidia-cuda-runtime-cu12 12.5.82\n",
            "    Uninstalling nvidia-cuda-runtime-cu12-12.5.82:\n",
            "      Successfully uninstalled nvidia-cuda-runtime-cu12-12.5.82\n",
            "  Attempting uninstall: nvidia-cuda-nvrtc-cu12\n",
            "    Found existing installation: nvidia-cuda-nvrtc-cu12 12.5.82\n",
            "    Uninstalling nvidia-cuda-nvrtc-cu12-12.5.82:\n",
            "      Successfully uninstalled nvidia-cuda-nvrtc-cu12-12.5.82\n",
            "  Attempting uninstall: nvidia-cuda-cupti-cu12\n",
            "    Found existing installation: nvidia-cuda-cupti-cu12 12.5.82\n",
            "    Uninstalling nvidia-cuda-cupti-cu12-12.5.82:\n",
            "      Successfully uninstalled nvidia-cuda-cupti-cu12-12.5.82\n",
            "  Attempting uninstall: nvidia-cublas-cu12\n",
            "    Found existing installation: nvidia-cublas-cu12 12.5.3.2\n",
            "    Uninstalling nvidia-cublas-cu12-12.5.3.2:\n",
            "      Successfully uninstalled nvidia-cublas-cu12-12.5.3.2\n",
            "  Attempting uninstall: nvidia-cusparse-cu12\n",
            "    Found existing installation: nvidia-cusparse-cu12 12.5.1.3\n",
            "    Uninstalling nvidia-cusparse-cu12-12.5.1.3:\n",
            "      Successfully uninstalled nvidia-cusparse-cu12-12.5.1.3\n",
            "  Attempting uninstall: nvidia-cudnn-cu12\n",
            "    Found existing installation: nvidia-cudnn-cu12 9.3.0.75\n",
            "    Uninstalling nvidia-cudnn-cu12-9.3.0.75:\n",
            "      Successfully uninstalled nvidia-cudnn-cu12-9.3.0.75\n",
            "  Attempting uninstall: nvidia-cusolver-cu12\n",
            "    Found existing installation: nvidia-cusolver-cu12 11.6.3.83\n",
            "    Uninstalling nvidia-cusolver-cu12-11.6.3.83:\n",
            "      Successfully uninstalled nvidia-cusolver-cu12-11.6.3.83\n",
            "Successfully installed nvidia-cublas-cu12-12.4.5.8 nvidia-cuda-cupti-cu12-12.4.127 nvidia-cuda-nvrtc-cu12-12.4.127 nvidia-cuda-runtime-cu12-12.4.127 nvidia-cudnn-cu12-9.1.0.70 nvidia-cufft-cu12-11.2.1.3 nvidia-curand-cu12-10.3.5.147 nvidia-cusolver-cu12-11.6.1.9 nvidia-cusparse-cu12-12.3.1.170 nvidia-nvjitlink-cu12-12.4.127\n"
          ]
        }
      ],
      "source": [
        "!pip install torch torchvision\n"
      ]
    },
    {
      "cell_type": "code",
      "source": [],
      "metadata": {
        "id": "MuznzUiPL_fK"
      },
      "execution_count": null,
      "outputs": []
    },
    {
      "cell_type": "code",
      "metadata": {
        "colab": {
          "base_uri": "https://localhost:8080/"
        },
        "id": "2a590fd8",
        "outputId": "1c57ee87-ff10-4057-a02a-cb144d094f97"
      },
      "source": [
        "import torch\n",
        "\n",
        "# Assuming your model is a PyTorch model and you want to load its state dictionary\n",
        "model_path = '/content/unet_model_final.pth'\n",
        "try:\n",
        "    # Load the model state dictionary\n",
        "    state_dict = torch.load(model_path)\n",
        "\n",
        "    # You would then typically load this state dictionary into your model instance\n",
        "    # model.load_state_dict(state_dict)\n",
        "    print(f\"Successfully loaded model state dictionary from {model_path}\")\n",
        "\n",
        "except FileNotFoundError:\n",
        "    print(f\"Error: The file {model_path} was not found.\")\n",
        "except Exception as e:\n",
        "    print(f\"An error occurred while loading the model: {e}\")"
      ],
      "execution_count": 5,
      "outputs": [
        {
          "output_type": "stream",
          "name": "stdout",
          "text": [
            "Successfully loaded model state dictionary from /content/unet_model_final.pth\n"
          ]
        }
      ]
    },
    {
      "cell_type": "code",
      "source": [
        "!pip install torch torchvision matplotlib pillow numpy tqdm\n",
        "\n",
        "import torch\n",
        "import torch.nn as nn\n",
        "import torch.optim as optim\n",
        "import torch.nn.functional as F\n",
        "from torch.utils.data import Dataset, DataLoader\n",
        "import torchvision.transforms as transforms\n",
        "import torchvision.transforms.functional as TF\n",
        "from PIL import Image\n",
        "import numpy as np\n",
        "import matplotlib.pyplot as plt\n",
        "import json\n",
        "import os\n",
        "from tqdm import tqdm\n",
        "import random\n",
        "\n",
        "print(f'PyTorch version: {torch.__version__}')\n",
        "device = torch.device('cuda' if torch.cuda.is_available() else 'cpu')\n",
        "print(f'Using device: {device}')\n"
      ],
      "metadata": {
        "colab": {
          "base_uri": "https://localhost:8080/"
        },
        "id": "kwyoOMu-O-Xk",
        "outputId": "88667834-7d40-47f9-ac46-2c02d54a8487"
      },
      "execution_count": 9,
      "outputs": [
        {
          "output_type": "stream",
          "name": "stdout",
          "text": [
            "Requirement already satisfied: torch in /usr/local/lib/python3.11/dist-packages (2.6.0+cu124)\n",
            "Requirement already satisfied: torchvision in /usr/local/lib/python3.11/dist-packages (0.21.0+cu124)\n",
            "Requirement already satisfied: matplotlib in /usr/local/lib/python3.11/dist-packages (3.10.0)\n",
            "Requirement already satisfied: pillow in /usr/local/lib/python3.11/dist-packages (11.3.0)\n",
            "Requirement already satisfied: numpy in /usr/local/lib/python3.11/dist-packages (2.0.2)\n",
            "Requirement already satisfied: tqdm in /usr/local/lib/python3.11/dist-packages (4.67.1)\n",
            "Requirement already satisfied: filelock in /usr/local/lib/python3.11/dist-packages (from torch) (3.18.0)\n",
            "Requirement already satisfied: typing-extensions>=4.10.0 in /usr/local/lib/python3.11/dist-packages (from torch) (4.14.1)\n",
            "Requirement already satisfied: networkx in /usr/local/lib/python3.11/dist-packages (from torch) (3.5)\n",
            "Requirement already satisfied: jinja2 in /usr/local/lib/python3.11/dist-packages (from torch) (3.1.6)\n",
            "Requirement already satisfied: fsspec in /usr/local/lib/python3.11/dist-packages (from torch) (2025.3.0)\n",
            "Requirement already satisfied: nvidia-cuda-nvrtc-cu12==12.4.127 in /usr/local/lib/python3.11/dist-packages (from torch) (12.4.127)\n",
            "Requirement already satisfied: nvidia-cuda-runtime-cu12==12.4.127 in /usr/local/lib/python3.11/dist-packages (from torch) (12.4.127)\n",
            "Requirement already satisfied: nvidia-cuda-cupti-cu12==12.4.127 in /usr/local/lib/python3.11/dist-packages (from torch) (12.4.127)\n",
            "Requirement already satisfied: nvidia-cudnn-cu12==9.1.0.70 in /usr/local/lib/python3.11/dist-packages (from torch) (9.1.0.70)\n",
            "Requirement already satisfied: nvidia-cublas-cu12==12.4.5.8 in /usr/local/lib/python3.11/dist-packages (from torch) (12.4.5.8)\n",
            "Requirement already satisfied: nvidia-cufft-cu12==11.2.1.3 in /usr/local/lib/python3.11/dist-packages (from torch) (11.2.1.3)\n",
            "Requirement already satisfied: nvidia-curand-cu12==10.3.5.147 in /usr/local/lib/python3.11/dist-packages (from torch) (10.3.5.147)\n",
            "Requirement already satisfied: nvidia-cusolver-cu12==11.6.1.9 in /usr/local/lib/python3.11/dist-packages (from torch) (11.6.1.9)\n",
            "Requirement already satisfied: nvidia-cusparse-cu12==12.3.1.170 in /usr/local/lib/python3.11/dist-packages (from torch) (12.3.1.170)\n",
            "Requirement already satisfied: nvidia-cusparselt-cu12==0.6.2 in /usr/local/lib/python3.11/dist-packages (from torch) (0.6.2)\n",
            "Requirement already satisfied: nvidia-nccl-cu12==2.21.5 in /usr/local/lib/python3.11/dist-packages (from torch) (2.21.5)\n",
            "Requirement already satisfied: nvidia-nvtx-cu12==12.4.127 in /usr/local/lib/python3.11/dist-packages (from torch) (12.4.127)\n",
            "Requirement already satisfied: nvidia-nvjitlink-cu12==12.4.127 in /usr/local/lib/python3.11/dist-packages (from torch) (12.4.127)\n",
            "Requirement already satisfied: triton==3.2.0 in /usr/local/lib/python3.11/dist-packages (from torch) (3.2.0)\n",
            "Requirement already satisfied: sympy==1.13.1 in /usr/local/lib/python3.11/dist-packages (from torch) (1.13.1)\n",
            "Requirement already satisfied: mpmath<1.4,>=1.1.0 in /usr/local/lib/python3.11/dist-packages (from sympy==1.13.1->torch) (1.3.0)\n",
            "Requirement already satisfied: contourpy>=1.0.1 in /usr/local/lib/python3.11/dist-packages (from matplotlib) (1.3.2)\n",
            "Requirement already satisfied: cycler>=0.10 in /usr/local/lib/python3.11/dist-packages (from matplotlib) (0.12.1)\n",
            "Requirement already satisfied: fonttools>=4.22.0 in /usr/local/lib/python3.11/dist-packages (from matplotlib) (4.59.0)\n",
            "Requirement already satisfied: kiwisolver>=1.3.1 in /usr/local/lib/python3.11/dist-packages (from matplotlib) (1.4.8)\n",
            "Requirement already satisfied: packaging>=20.0 in /usr/local/lib/python3.11/dist-packages (from matplotlib) (25.0)\n",
            "Requirement already satisfied: pyparsing>=2.3.1 in /usr/local/lib/python3.11/dist-packages (from matplotlib) (3.2.3)\n",
            "Requirement already satisfied: python-dateutil>=2.7 in /usr/local/lib/python3.11/dist-packages (from matplotlib) (2.9.0.post0)\n",
            "Requirement already satisfied: six>=1.5 in /usr/local/lib/python3.11/dist-packages (from python-dateutil>=2.7->matplotlib) (1.17.0)\n",
            "Requirement already satisfied: MarkupSafe>=2.0 in /usr/local/lib/python3.11/dist-packages (from jinja2->torch) (3.0.2)\n",
            "PyTorch version: 2.6.0+cu124\n",
            "Using device: cpu\n"
          ]
        }
      ]
    },
    {
      "cell_type": "code",
      "source": [
        "class DoubleConv(nn.Module):\n",
        "    def __init__(self, in_channels, out_channels):\n",
        "        super(DoubleConv, self).__init__()\n",
        "        self.conv = nn.Sequential(\n",
        "            nn.Conv2d(in_channels, out_channels, 3, padding=1),\n",
        "            nn.BatchNorm2d(out_channels),\n",
        "            nn.ReLU(inplace=True),\n",
        "            nn.Conv2d(out_channels, out_channels, 3, padding=1),\n",
        "            nn.BatchNorm2d(out_channels),\n",
        "            nn.ReLU(inplace=True)\n",
        "        )\n",
        "\n",
        "    def forward(self, x):\n",
        "        return self.conv(x)\n",
        "\n",
        "class UNet(nn.Module):\n",
        "    def __init__(self, in_channels=65, out_channels=3):\n",
        "        super(UNet, self).__init__()\n",
        "\n",
        "        # Encoder\n",
        "        self.encoder1 = DoubleConv(in_channels, 64)\n",
        "        self.pool1 = nn.MaxPool2d(2)\n",
        "        self.encoder2 = DoubleConv(64, 128)\n",
        "        self.pool2 = nn.MaxPool2d(2)\n",
        "        self.encoder3 = DoubleConv(128, 256)\n",
        "        self.pool3 = nn.MaxPool2d(2)\n",
        "        self.encoder4 = DoubleConv(256, 512)\n",
        "        self.pool4 = nn.MaxPool2d(2)\n",
        "\n",
        "        # Bottleneck\n",
        "        self.bottleneck = DoubleConv(512, 1024)\n",
        "\n",
        "        # Decoder\n",
        "        self.upconv4 = nn.ConvTranspose2d(1024, 512, 2, stride=2)\n",
        "        self.decoder4 = DoubleConv(1024, 512)\n",
        "        self.upconv3 = nn.ConvTranspose2d(512, 256, 2, stride=2)\n",
        "        self.decoder3 = DoubleConv(512, 256)\n",
        "        self.upconv2 = nn.ConvTranspose2d(256, 128, 2, stride=2)\n",
        "        self.decoder2 = DoubleConv(256, 128)\n",
        "        self.upconv1 = nn.ConvTranspose2d(128, 64, 2, stride=2)\n",
        "        self.decoder1 = DoubleConv(128, 64)\n",
        "\n",
        "        # Final layer\n",
        "        self.final = nn.Conv2d(64, out_channels, 1)\n",
        "\n",
        "        # Color embedding\n",
        "        self.color_embedding = nn.Embedding(8, 64)\n",
        "\n",
        "    def forward(self, x, color_idx):\n",
        "        # Get color embedding\n",
        "        color_emb = self.color_embedding(color_idx)\n",
        "\n",
        "        # Expand color embedding to match spatial dimensions\n",
        "        batch_size, _, height, width = x.shape\n",
        "        color_emb = color_emb.unsqueeze(-1).unsqueeze(-1)\n",
        "        color_emb = color_emb.expand(batch_size, 64, height, width)\n",
        "\n",
        "        # Concatenate input image with color embedding\n",
        "        x = torch.cat([x, color_emb], dim=1)\n",
        "\n",
        "        # Encoder\n",
        "        enc1 = self.encoder1(x)\n",
        "        enc2 = self.encoder2(self.pool1(enc1))\n",
        "        enc3 = self.encoder3(self.pool2(enc2))\n",
        "        enc4 = self.encoder4(self.pool3(enc3))\n",
        "\n",
        "        # Bottleneck\n",
        "        bottleneck = self.bottleneck(self.pool4(enc4))\n",
        "\n",
        "        # Decoder\n",
        "        dec4 = self.upconv4(bottleneck)\n",
        "        dec4 = torch.cat([dec4, enc4], dim=1)\n",
        "        dec4 = self.decoder4(dec4)\n",
        "\n",
        "        dec3 = self.upconv3(dec4)\n",
        "        dec3 = torch.cat([dec3, enc3], dim=1)\n",
        "        dec3 = self.decoder3(dec3)\n",
        "\n",
        "        dec2 = self.upconv2(dec3)\n",
        "        dec2 = torch.cat([dec2, enc2], dim=1)\n",
        "        dec2 = self.decoder2(dec2)\n",
        "\n",
        "        dec1 = self.upconv1(dec2)\n",
        "        dec1 = torch.cat([dec1, enc1], dim=1)\n",
        "        dec1 = self.decoder1(dec1)\n",
        "\n",
        "        # Final output\n",
        "        output = torch.sigmoid(self.final(dec1))\n",
        "        return output"
      ],
      "metadata": {
        "id": "kdPM5UUMPBgH"
      },
      "execution_count": 10,
      "outputs": []
    },
    {
      "cell_type": "code",
      "source": [
        "class PolygonDataset(Dataset):\n",
        "    def __init__(self, data_json, transform=None, image_size=128):\n",
        "        \"\"\"\n",
        "        Dataset for polygon colorization\n",
        "\n",
        "        Args:\n",
        "            data_json: List of dictionaries with 'input_polygon', 'colour', 'output_image'\n",
        "            transform: Optional transforms to apply\n",
        "            image_size: Size to resize images to\n",
        "        \"\"\"\n",
        "        self.data = data_json\n",
        "        self.transform = transform\n",
        "        self.image_size = image_size\n",
        "\n",
        "        # Color mapping\n",
        "        self.color_map = {\n",
        "            'cyan': 0, 'purple': 1, 'magenta': 2, 'green': 3,\n",
        "            'red': 4, 'blue': 5, 'yellow': 6, 'orange': 7\n",
        "        }\n",
        "\n",
        "        # RGB values for each color\n",
        "        self.color_rgb = {\n",
        "            'cyan': [0, 1, 1],\n",
        "            'purple': [0.5, 0, 0.5],\n",
        "            'magenta': [1, 0, 1],\n",
        "            'green': [0, 1, 0],\n",
        "            'red': [1, 0, 0],\n",
        "            'blue': [0, 0, 1],\n",
        "            'yellow': [1, 1, 0],\n",
        "            'orange': [1, 0.5, 0]\n",
        "        }\n",
        "\n",
        "    def __len__(self):\n",
        "        return len(self.data)\n",
        "\n",
        "    def __getitem__(self, idx):\n",
        "        item = self.data[idx]\n",
        "\n",
        "        # Load input polygon (grayscale)\n",
        "        input_path = item['input_polygon']\n",
        "        try:\n",
        "            input_img = Image.open(input_path).convert('L')\n",
        "        except:\n",
        "            # If file doesn't exist, create a simple shape based on filename\n",
        "            input_img = self.create_shape_from_name(input_path)\n",
        "\n",
        "        # Get color information\n",
        "        color_name = item['colour'].lower()\n",
        "        color_idx = self.color_map.get(color_name, 0)\n",
        "        color_rgb = self.color_rgb.get(color_name, [1, 1, 1])\n",
        "\n",
        "        # Create target image (colored version)\n",
        "        target_img = self.create_colored_target(input_img, color_rgb)\n",
        "\n",
        "        # Apply transforms\n",
        "        if self.transform:\n",
        "            input_img = self.transform(input_img)\n",
        "            target_img = self.transform(target_img)\n",
        "        else:\n",
        "            # Default transforms\n",
        "            input_img = TF.resize(input_img, (self.image_size, self.image_size))\n",
        "            target_img = TF.resize(target_img, (self.image_size, self.image_size))\n",
        "            input_img = TF.to_tensor(input_img)\n",
        "            target_img = TF.to_tensor(target_img)\n",
        "\n",
        "        return {\n",
        "            'input': input_img,\n",
        "            'target': target_img,\n",
        "            'color_idx': torch.tensor(color_idx, dtype=torch.long),\n",
        "            'color_name': color_name\n",
        "        }\n",
        "\n",
        "    def create_shape_from_name(self, filename):\n",
        "        \"\"\"Create a simple shape based on filename if file doesn't exist\"\"\"\n",
        "        shape_name = os.path.splitext(os.path.basename(filename))[0].lower()\n",
        "\n",
        "        img = np.zeros((128, 128), dtype=np.uint8)\n",
        "\n",
        "        if 'square' in shape_name:\n",
        "            img[32:96, 32:96] = 255\n",
        "        elif 'circle' in shape_name:\n",
        "            y, x = np.ogrid[:128, :128]\n",
        "            center = 64\n",
        "            mask = (x - center)**2 + (y - center)**2 <= 30**2\n",
        "            img[mask] = 255\n",
        "        elif 'triangle' in shape_name:\n",
        "            from PIL import ImageDraw\n",
        "            img_pil = Image.fromarray(img, mode='L')\n",
        "            draw = ImageDraw.Draw(img_pil)\n",
        "            triangle_points = [(64, 20), (20, 100), (108, 100)]\n",
        "            draw.polygon(triangle_points, fill=255)\n",
        "            return img_pil\n",
        "        elif 'star' in shape_name:\n",
        "            from PIL import ImageDraw\n",
        "            img_pil = Image.fromarray(img, mode='L')\n",
        "            draw = ImageDraw.Draw(img_pil)\n",
        "            # Simple 5-pointed star\n",
        "            star_points = [(64, 10), (75, 40), (105, 40), (82, 60), (90, 90), (64, 75), (38, 90), (46, 60), (23, 40), (53, 40)]\n",
        "            draw.polygon(star_points, fill=255)\n",
        "            return img_pil\n",
        "        elif 'pentagon' in shape_name:\n",
        "            from PIL import ImageDraw\n",
        "            img_pil = Image.fromarray(img, mode='L')\n",
        "            draw = ImageDraw.Draw(img_pil)\n",
        "            pentagon_points = [(64, 20), (95, 45), (82, 85), (46, 85), (33, 45)]\n",
        "            draw.polygon(pentagon_points, fill=255)\n",
        "            return img_pil\n",
        "        elif 'hexagon' in shape_name:\n",
        "            from PIL import ImageDraw\n",
        "            img_pil = Image.fromarray(img, mode='L')\n",
        "            draw = ImageDraw.Draw(img_pil)\n",
        "            hexagon_points = [(64, 20), (90, 35), (90, 65), (64, 80), (38, 65), (38, 35)]\n",
        "            draw.polygon(hexagon_points, fill=255)\n",
        "            return img_pil\n",
        "        elif 'octagon' in shape_name:\n",
        "            from PIL import ImageDraw\n",
        "            img_pil = Image.fromarray(img, mode='L')\n",
        "            draw = ImageDraw.Draw(img_pil)\n",
        "            octagon_points = [(64, 20), (85, 25), (100, 45), (100, 65), (85, 85), (64, 90), (43, 85), (28, 65), (28, 45), (43, 25)]\n",
        "            draw.polygon(octagon_points, fill=255)\n",
        "            return img_pil\n",
        "        elif 'diamond' in shape_name:\n",
        "            from PIL import ImageDraw\n",
        "            img_pil = Image.fromarray(img, mode='L')\n",
        "            draw = ImageDraw.Draw(img_pil)\n",
        "            diamond_points = [(64, 20), (90, 50), (64, 80), (38, 50)]\n",
        "            draw.polygon(diamond_points, fill=255)\n",
        "            return img_pil\n",
        "        else:\n",
        "            # Default to square\n",
        "            img[32:96, 32:96] = 255\n",
        "\n",
        "        return Image.fromarray(img, mode='L')\n",
        "\n",
        "    def create_colored_target(self, input_img, color_rgb):\n",
        "        \"\"\"Create colored target image from grayscale input\"\"\"\n",
        "        # Convert to numpy\n",
        "        input_np = np.array(input_img)\n",
        "\n",
        "        # Create RGB image\n",
        "        target_rgb = np.zeros((input_np.shape[0], input_np.shape[1], 3), dtype=np.float32)\n",
        "\n",
        "        # Apply color where polygon exists (white pixels)\n",
        "        mask = input_np > 128  # White pixels\n",
        "        for i in range(3):\n",
        "            target_rgb[:, :, i][mask] = color_rgb[i]\n",
        "\n",
        "        # Convert back to PIL\n",
        "        target_rgb = (target_rgb * 255).astype(np.uint8)\n",
        "        return Image.fromarray(target_rgb, mode='RGB')\n"
      ],
      "metadata": {
        "id": "ohKQt4_WPLw_"
      },
      "execution_count": 11,
      "outputs": []
    },
    {
      "cell_type": "code",
      "source": [
        "from google.colab import files\n",
        "print(\"Please upload your data.json file:\")\n",
        "uploaded = files.upload()\n",
        "\n",
        "# Load the JSON data\n",
        "with open('data.json', 'r') as f:\n",
        "    data = json.load(f)\n",
        "\n",
        "print(f\"Loaded {len(data)} data samples\")\n",
        "print(\"Sample data:\", data[0])\n",
        "\n",
        "# Create train/validation split\n",
        "train_split = 0.8\n",
        "train_size = int(len(data) * train_split)\n",
        "train_data = data[:train_size]\n",
        "val_data = data[train_size:]\n",
        "\n",
        "print(f\"Training samples: {len(train_data)}\")\n",
        "print(f\"Validation samples: {len(val_data)}\")\n"
      ],
      "metadata": {
        "colab": {
          "base_uri": "https://localhost:8080/",
          "height": 154
        },
        "id": "3-fP-x3-PTbq",
        "outputId": "f317989a-f38e-4b05-ad73-ef3f670c06f8"
      },
      "execution_count": 12,
      "outputs": [
        {
          "output_type": "stream",
          "name": "stdout",
          "text": [
            "Please upload your data.json file:\n"
          ]
        },
        {
          "output_type": "display_data",
          "data": {
            "text/plain": [
              "<IPython.core.display.HTML object>"
            ],
            "text/html": [
              "\n",
              "     <input type=\"file\" id=\"files-3172d0f9-57d9-4e69-88bd-17fd6a1dbd8d\" name=\"files[]\" multiple disabled\n",
              "        style=\"border:none\" />\n",
              "     <output id=\"result-3172d0f9-57d9-4e69-88bd-17fd6a1dbd8d\">\n",
              "      Upload widget is only available when the cell has been executed in the\n",
              "      current browser session. Please rerun this cell to enable.\n",
              "      </output>\n",
              "      <script>// Copyright 2017 Google LLC\n",
              "//\n",
              "// Licensed under the Apache License, Version 2.0 (the \"License\");\n",
              "// you may not use this file except in compliance with the License.\n",
              "// You may obtain a copy of the License at\n",
              "//\n",
              "//      http://www.apache.org/licenses/LICENSE-2.0\n",
              "//\n",
              "// Unless required by applicable law or agreed to in writing, software\n",
              "// distributed under the License is distributed on an \"AS IS\" BASIS,\n",
              "// WITHOUT WARRANTIES OR CONDITIONS OF ANY KIND, either express or implied.\n",
              "// See the License for the specific language governing permissions and\n",
              "// limitations under the License.\n",
              "\n",
              "/**\n",
              " * @fileoverview Helpers for google.colab Python module.\n",
              " */\n",
              "(function(scope) {\n",
              "function span(text, styleAttributes = {}) {\n",
              "  const element = document.createElement('span');\n",
              "  element.textContent = text;\n",
              "  for (const key of Object.keys(styleAttributes)) {\n",
              "    element.style[key] = styleAttributes[key];\n",
              "  }\n",
              "  return element;\n",
              "}\n",
              "\n",
              "// Max number of bytes which will be uploaded at a time.\n",
              "const MAX_PAYLOAD_SIZE = 100 * 1024;\n",
              "\n",
              "function _uploadFiles(inputId, outputId) {\n",
              "  const steps = uploadFilesStep(inputId, outputId);\n",
              "  const outputElement = document.getElementById(outputId);\n",
              "  // Cache steps on the outputElement to make it available for the next call\n",
              "  // to uploadFilesContinue from Python.\n",
              "  outputElement.steps = steps;\n",
              "\n",
              "  return _uploadFilesContinue(outputId);\n",
              "}\n",
              "\n",
              "// This is roughly an async generator (not supported in the browser yet),\n",
              "// where there are multiple asynchronous steps and the Python side is going\n",
              "// to poll for completion of each step.\n",
              "// This uses a Promise to block the python side on completion of each step,\n",
              "// then passes the result of the previous step as the input to the next step.\n",
              "function _uploadFilesContinue(outputId) {\n",
              "  const outputElement = document.getElementById(outputId);\n",
              "  const steps = outputElement.steps;\n",
              "\n",
              "  const next = steps.next(outputElement.lastPromiseValue);\n",
              "  return Promise.resolve(next.value.promise).then((value) => {\n",
              "    // Cache the last promise value to make it available to the next\n",
              "    // step of the generator.\n",
              "    outputElement.lastPromiseValue = value;\n",
              "    return next.value.response;\n",
              "  });\n",
              "}\n",
              "\n",
              "/**\n",
              " * Generator function which is called between each async step of the upload\n",
              " * process.\n",
              " * @param {string} inputId Element ID of the input file picker element.\n",
              " * @param {string} outputId Element ID of the output display.\n",
              " * @return {!Iterable<!Object>} Iterable of next steps.\n",
              " */\n",
              "function* uploadFilesStep(inputId, outputId) {\n",
              "  const inputElement = document.getElementById(inputId);\n",
              "  inputElement.disabled = false;\n",
              "\n",
              "  const outputElement = document.getElementById(outputId);\n",
              "  outputElement.innerHTML = '';\n",
              "\n",
              "  const pickedPromise = new Promise((resolve) => {\n",
              "    inputElement.addEventListener('change', (e) => {\n",
              "      resolve(e.target.files);\n",
              "    });\n",
              "  });\n",
              "\n",
              "  const cancel = document.createElement('button');\n",
              "  inputElement.parentElement.appendChild(cancel);\n",
              "  cancel.textContent = 'Cancel upload';\n",
              "  const cancelPromise = new Promise((resolve) => {\n",
              "    cancel.onclick = () => {\n",
              "      resolve(null);\n",
              "    };\n",
              "  });\n",
              "\n",
              "  // Wait for the user to pick the files.\n",
              "  const files = yield {\n",
              "    promise: Promise.race([pickedPromise, cancelPromise]),\n",
              "    response: {\n",
              "      action: 'starting',\n",
              "    }\n",
              "  };\n",
              "\n",
              "  cancel.remove();\n",
              "\n",
              "  // Disable the input element since further picks are not allowed.\n",
              "  inputElement.disabled = true;\n",
              "\n",
              "  if (!files) {\n",
              "    return {\n",
              "      response: {\n",
              "        action: 'complete',\n",
              "      }\n",
              "    };\n",
              "  }\n",
              "\n",
              "  for (const file of files) {\n",
              "    const li = document.createElement('li');\n",
              "    li.append(span(file.name, {fontWeight: 'bold'}));\n",
              "    li.append(span(\n",
              "        `(${file.type || 'n/a'}) - ${file.size} bytes, ` +\n",
              "        `last modified: ${\n",
              "            file.lastModifiedDate ? file.lastModifiedDate.toLocaleDateString() :\n",
              "                                    'n/a'} - `));\n",
              "    const percent = span('0% done');\n",
              "    li.appendChild(percent);\n",
              "\n",
              "    outputElement.appendChild(li);\n",
              "\n",
              "    const fileDataPromise = new Promise((resolve) => {\n",
              "      const reader = new FileReader();\n",
              "      reader.onload = (e) => {\n",
              "        resolve(e.target.result);\n",
              "      };\n",
              "      reader.readAsArrayBuffer(file);\n",
              "    });\n",
              "    // Wait for the data to be ready.\n",
              "    let fileData = yield {\n",
              "      promise: fileDataPromise,\n",
              "      response: {\n",
              "        action: 'continue',\n",
              "      }\n",
              "    };\n",
              "\n",
              "    // Use a chunked sending to avoid message size limits. See b/62115660.\n",
              "    let position = 0;\n",
              "    do {\n",
              "      const length = Math.min(fileData.byteLength - position, MAX_PAYLOAD_SIZE);\n",
              "      const chunk = new Uint8Array(fileData, position, length);\n",
              "      position += length;\n",
              "\n",
              "      const base64 = btoa(String.fromCharCode.apply(null, chunk));\n",
              "      yield {\n",
              "        response: {\n",
              "          action: 'append',\n",
              "          file: file.name,\n",
              "          data: base64,\n",
              "        },\n",
              "      };\n",
              "\n",
              "      let percentDone = fileData.byteLength === 0 ?\n",
              "          100 :\n",
              "          Math.round((position / fileData.byteLength) * 100);\n",
              "      percent.textContent = `${percentDone}% done`;\n",
              "\n",
              "    } while (position < fileData.byteLength);\n",
              "  }\n",
              "\n",
              "  // All done.\n",
              "  yield {\n",
              "    response: {\n",
              "      action: 'complete',\n",
              "    }\n",
              "  };\n",
              "}\n",
              "\n",
              "scope.google = scope.google || {};\n",
              "scope.google.colab = scope.google.colab || {};\n",
              "scope.google.colab._files = {\n",
              "  _uploadFiles,\n",
              "  _uploadFilesContinue,\n",
              "};\n",
              "})(self);\n",
              "</script> "
            ]
          },
          "metadata": {}
        },
        {
          "output_type": "stream",
          "name": "stdout",
          "text": [
            "Saving data.json to data.json\n",
            "Loaded 56 data samples\n",
            "Sample data: {'input_polygon': 'octagon.png', 'colour': 'cyan', 'output_image': 'cyan_octagon.png'}\n",
            "Training samples: 44\n",
            "Validation samples: 12\n"
          ]
        }
      ]
    },
    {
      "cell_type": "code",
      "source": [
        "transform = transforms.Compose([\n",
        "    transforms.Resize((128, 128)),\n",
        "    transforms.ToTensor(),\n",
        "])\n",
        "\n",
        "# Create datasets\n",
        "train_dataset = PolygonDataset(train_data, transform=None)  # Custom transform in dataset\n",
        "val_dataset = PolygonDataset(val_data, transform=None)\n",
        "\n",
        "# Create data loaders\n",
        "batch_size = 8\n",
        "train_loader = DataLoader(train_dataset, batch_size=batch_size, shuffle=True)\n",
        "val_loader = DataLoader(val_dataset, batch_size=batch_size, shuffle=False)\n",
        "\n",
        "print(f\"Training batches: {len(train_loader)}\")\n",
        "print(f\"Validation batches: {len(val_loader)}\")\n"
      ],
      "metadata": {
        "colab": {
          "base_uri": "https://localhost:8080/"
        },
        "id": "4_TcH35wPf17",
        "outputId": "65e4f6fa-cd3e-4bf8-c33f-b662991cfd00"
      },
      "execution_count": 13,
      "outputs": [
        {
          "output_type": "stream",
          "name": "stdout",
          "text": [
            "Training batches: 6\n",
            "Validation batches: 2\n"
          ]
        }
      ]
    },
    {
      "cell_type": "code",
      "source": [
        "def visualize_batch(data_loader, num_samples=4):\n",
        "    \"\"\"Visualize a batch of training data\"\"\"\n",
        "    batch = next(iter(data_loader))\n",
        "\n",
        "    fig, axes = plt.subplots(2, num_samples, figsize=(4*num_samples, 8))\n",
        "\n",
        "    for i in range(min(num_samples, len(batch['input']))):\n",
        "        # Input image\n",
        "        input_img = batch['input'][i].squeeze().numpy()\n",
        "        axes[0, i].imshow(input_img, cmap='gray')\n",
        "        axes[0, i].set_title(f'Input: {batch[\"color_name\"][i]}')\n",
        "        axes[0, i].axis('off')\n",
        "\n",
        "        # Target image\n",
        "        target_img = batch['target'][i].permute(1, 2, 0).numpy()\n",
        "        axes[1, i].imshow(target_img)\n",
        "        axes[1, i].set_title(f'Target: {batch[\"color_name\"][i]}')\n",
        "        axes[1, i].axis('off')\n",
        "\n",
        "    plt.tight_layout()\n",
        "    plt.show()\n",
        "\n",
        "# Visualize training samples\n",
        "print(\"Training samples:\")\n",
        "visualize_batch(train_loader)\n"
      ],
      "metadata": {
        "colab": {
          "base_uri": "https://localhost:8080/",
          "height": 777
        },
        "id": "bQK9UAJsPksK",
        "outputId": "36f41c1f-2293-400b-ad52-c31849b87d75"
      },
      "execution_count": 14,
      "outputs": [
        {
          "output_type": "stream",
          "name": "stdout",
          "text": [
            "Training samples:\n"
          ]
        },
        {
          "output_type": "stream",
          "name": "stderr",
          "text": [
            "/tmp/ipython-input-2954167942.py:117: DeprecationWarning: 'mode' parameter is deprecated and will be removed in Pillow 13 (2026-10-15)\n",
            "  img_pil = Image.fromarray(img, mode='L')\n",
            "/tmp/ipython-input-2954167942.py:150: DeprecationWarning: 'mode' parameter is deprecated and will be removed in Pillow 13 (2026-10-15)\n",
            "  return Image.fromarray(target_rgb, mode='RGB')\n",
            "/tmp/ipython-input-2954167942.py:133: DeprecationWarning: 'mode' parameter is deprecated and will be removed in Pillow 13 (2026-10-15)\n",
            "  return Image.fromarray(img, mode='L')\n",
            "/tmp/ipython-input-2954167942.py:88: DeprecationWarning: 'mode' parameter is deprecated and will be removed in Pillow 13 (2026-10-15)\n",
            "  img_pil = Image.fromarray(img, mode='L')\n",
            "/tmp/ipython-input-2954167942.py:124: DeprecationWarning: 'mode' parameter is deprecated and will be removed in Pillow 13 (2026-10-15)\n",
            "  img_pil = Image.fromarray(img, mode='L')\n",
            "/tmp/ipython-input-2954167942.py:110: DeprecationWarning: 'mode' parameter is deprecated and will be removed in Pillow 13 (2026-10-15)\n",
            "  img_pil = Image.fromarray(img, mode='L')\n"
          ]
        },
        {
          "output_type": "display_data",
          "data": {
            "text/plain": [
              "<Figure size 1600x800 with 8 Axes>"
            ],
            "image/png": "[encoded data removed]"
          },
          "metadata": {}
        }
      ]
    },
    {
      "cell_type": "code",
      "source": [
        "model = UNet(in_channels=65, out_channels=3).to(device)\n",
        "criterion = nn.MSELoss()\n",
        "optimizer = optim.Adam(model.parameters(), lr=0.001)\n",
        "scheduler = optim.lr_scheduler.ReduceLROnPlateau(optimizer, patience=5, factor=0.5)\n"
      ],
      "metadata": {
        "id": "I0ufni59PrSy"
      },
      "execution_count": 15,
      "outputs": []
    },
    {
      "cell_type": "code",
      "source": [
        "total_params = sum(p.numel() for p in model.parameters())\n",
        "trainable_params = sum(p.numel() for p in model.parameters() if p.requires_grad)\n",
        "print(f\"Total parameters: {total_params:,}\")\n",
        "print(f\"Trainable parameters: {trainable_params:,}\")\n"
      ],
      "metadata": {
        "colab": {
          "base_uri": "https://localhost:8080/"
        },
        "id": "YigmoQxIPwXW",
        "outputId": "41aa149d-acb9-49ce-aa9c-64bb586b8f71"
      },
      "execution_count": 16,
      "outputs": [
        {
          "output_type": "stream",
          "name": "stdout",
          "text": [
            "Total parameters: 31,079,875\n",
            "Trainable parameters: 31,079,875\n"
          ]
        }
      ]
    },
    {
      "cell_type": "code",
      "source": [
        "def train_epoch(model, train_loader, criterion, optimizer, device):\n",
        "    \"\"\"Train for one epoch\"\"\"\n",
        "    model.train()\n",
        "    total_loss = 0\n",
        "    num_batches = 0\n",
        "\n",
        "    progress_bar = tqdm(train_loader, desc='Training')\n",
        "\n",
        "    for batch in progress_bar:\n",
        "        # Move data to device\n",
        "        inputs = batch['input'].to(device)\n",
        "        targets = batch['target'].to(device)\n",
        "        color_indices = batch['color_idx'].to(device)\n",
        "\n",
        "        # Forward pass\n",
        "        optimizer.zero_grad()\n",
        "        outputs = model(inputs, color_indices)\n",
        "        loss = criterion(outputs, targets)\n",
        "\n",
        "        # Backward pass\n",
        "        loss.backward()\n",
        "        optimizer.step()\n",
        "\n",
        "        # Update metrics\n",
        "        total_loss += loss.item()\n",
        "        num_batches += 1\n",
        "\n",
        "        # Update progress bar\n",
        "        progress_bar.set_postfix({'Loss': f'{loss.item():.4f}'})\n",
        "\n",
        "    return total_loss / num_batches\n",
        "\n",
        "def validate_epoch(model, val_loader, criterion, device):\n",
        "    \"\"\"Validate for one epoch\"\"\"\n",
        "    model.eval()\n",
        "    total_loss = 0\n",
        "    num_batches = 0\n",
        "\n",
        "    with torch.no_grad():\n",
        "        for batch in tqdm(val_loader, desc='Validating'):\n",
        "            # Move data to device\n",
        "            inputs = batch['input'].to(device)\n",
        "            targets = batch['target'].to(device)\n",
        "            color_indices = batch['color_idx'].to(device)\n",
        "\n",
        "            # Forward pass\n",
        "            outputs = model(inputs, color_indices)\n",
        "            loss = criterion(outputs, targets)\n",
        "\n",
        "            # Update metrics\n",
        "            total_loss += loss.item()\n",
        "            num_batches += 1\n",
        "\n",
        "    return total_loss / num_batches\n"
      ],
      "metadata": {
        "id": "PupUDW3SP02N"
      },
      "execution_count": 17,
      "outputs": []
    },
    {
      "cell_type": "code",
      "source": [
        "num_epochs = 50\n",
        "best_val_loss = float('inf')\n",
        "train_losses = []\n",
        "val_losses = []\n",
        "\n",
        "print(f\"Starting training for {num_epochs} epochs...\")\n",
        "\n",
        "for epoch in range(num_epochs):\n",
        "    print(f\"\\nEpoch {epoch+1}/{num_epochs}\")\n",
        "\n",
        "    # Train\n",
        "    train_loss = train_epoch(model, train_loader, criterion, optimizer, device)\n",
        "    train_losses.append(train_loss)\n",
        "\n",
        "    # Validate\n",
        "    val_loss = validate_epoch(model, val_loader, criterion, device)\n",
        "    val_losses.append(val_loss)\n",
        "\n",
        "    # Update learning rate\n",
        "    scheduler.step(val_loss)\n",
        "\n",
        "    # Print epoch results\n",
        "    current_lr = optimizer.param_groups[0]['lr']\n",
        "    print(f\"Train Loss: {train_loss:.4f}, Val Loss: {val_loss:.4f}, LR: {current_lr:.6f}\")\n",
        "\n",
        "    # Save best model\n",
        "    if val_loss < best_val_loss:\n",
        "        best_val_loss = val_loss\n",
        "        torch.save({\n",
        "            'epoch': epoch,\n",
        "            'model_state_dict': model.state_dict(),\n",
        "            'optimizer_state_dict': optimizer.state_dict(),\n",
        "            'train_loss': train_loss,\n",
        "            'val_loss': val_loss,\n",
        "        }, 'best_unet_model.pth')\n",
        "        print(f\"✅ New best model saved! Val Loss: {val_loss:.4f}\")\n",
        "\n",
        "print(\" Training completed!\")\n"
      ],
      "metadata": {
        "colab": {
          "base_uri": "https://localhost:8080/"
        },
        "collapsed": true,
        "id": "WQM6i1FvP59B",
        "outputId": "d02e51c7-d744-4939-c8da-fddd3d0e7f39"
      },
      "execution_count": 18,
      "outputs": [
        {
          "output_type": "stream",
          "name": "stdout",
          "text": [
            "Starting training for 50 epochs...\n",
            "\n",
            "Epoch 1/50\n"
          ]
        },
        {
          "output_type": "stream",
          "name": "stderr",
          "text": [
            "\rTraining:   0%|          | 0/6 [00:00<?, ?it/s]/tmp/ipython-input-2954167942.py:117: DeprecationWarning: 'mode' parameter is deprecated and will be removed in Pillow 13 (2026-10-15)\n",
            "  img_pil = Image.fromarray(img, mode='L')\n",
            "/tmp/ipython-input-2954167942.py:150: DeprecationWarning: 'mode' parameter is deprecated and will be removed in Pillow 13 (2026-10-15)\n",
            "  return Image.fromarray(target_rgb, mode='RGB')\n",
            "/tmp/ipython-input-2954167942.py:133: DeprecationWarning: 'mode' parameter is deprecated and will be removed in Pillow 13 (2026-10-15)\n",
            "  return Image.fromarray(img, mode='L')\n",
            "/tmp/ipython-input-2954167942.py:110: DeprecationWarning: 'mode' parameter is deprecated and will be removed in Pillow 13 (2026-10-15)\n",
            "  img_pil = Image.fromarray(img, mode='L')\n",
            "/tmp/ipython-input-2954167942.py:124: DeprecationWarning: 'mode' parameter is deprecated and will be removed in Pillow 13 (2026-10-15)\n",
            "  img_pil = Image.fromarray(img, mode='L')\n",
            "/tmp/ipython-input-2954167942.py:103: DeprecationWarning: 'mode' parameter is deprecated and will be removed in Pillow 13 (2026-10-15)\n",
            "  img_pil = Image.fromarray(img, mode='L')\n",
            "/tmp/ipython-input-2954167942.py:88: DeprecationWarning: 'mode' parameter is deprecated and will be removed in Pillow 13 (2026-10-15)\n",
            "  img_pil = Image.fromarray(img, mode='L')\n",
            "Training: 100%|██████████| 6/6 [01:09<00:00, 11.61s/it, Loss=0.2597]\n",
            "Validating:  50%|█████     | 1/2 [00:04<00:04,  4.91s/it]/tmp/ipython-input-2954167942.py:95: DeprecationWarning: 'mode' parameter is deprecated and will be removed in Pillow 13 (2026-10-15)\n",
            "  img_pil = Image.fromarray(img, mode='L')\n",
            "Validating: 100%|██████████| 2/2 [00:06<00:00,  3.25s/it]\n"
          ]
        },
        {
          "output_type": "stream",
          "name": "stdout",
          "text": [
            "Train Loss: 0.2787, Val Loss: 0.3292, LR: 0.001000\n",
            "✅ New best model saved! Val Loss: 0.3292\n",
            "\n",
            "Epoch 2/50\n"
          ]
        },
        {
          "output_type": "stream",
          "name": "stderr",
          "text": [
            "Training: 100%|██████████| 6/6 [01:07<00:00, 11.32s/it, Loss=0.2136]\n",
            "Validating: 100%|██████████| 2/2 [00:06<00:00,  3.30s/it]\n"
          ]
        },
        {
          "output_type": "stream",
          "name": "stdout",
          "text": [
            "Train Loss: 0.2254, Val Loss: 0.6048, LR: 0.001000\n",
            "\n",
            "Epoch 3/50\n"
          ]
        },
        {
          "output_type": "stream",
          "name": "stderr",
          "text": [
            "Training: 100%|██████████| 6/6 [01:07<00:00, 11.24s/it, Loss=0.1650]\n",
            "Validating: 100%|██████████| 2/2 [00:06<00:00,  3.13s/it]\n"
          ]
        },
        {
          "output_type": "stream",
          "name": "stdout",
          "text": [
            "Train Loss: 0.1860, Val Loss: 0.3866, LR: 0.001000\n",
            "\n",
            "Epoch 4/50\n"
          ]
        },
        {
          "output_type": "stream",
          "name": "stderr",
          "text": [
            "Training: 100%|██████████| 6/6 [01:07<00:00, 11.26s/it, Loss=0.1511]\n",
            "Validating: 100%|██████████| 2/2 [00:04<00:00,  2.45s/it]\n"
          ]
        },
        {
          "output_type": "stream",
          "name": "stdout",
          "text": [
            "Train Loss: 0.1646, Val Loss: 0.3148, LR: 0.001000\n",
            "✅ New best model saved! Val Loss: 0.3148\n",
            "\n",
            "Epoch 5/50\n"
          ]
        },
        {
          "output_type": "stream",
          "name": "stderr",
          "text": [
            "Training: 100%|██████████| 6/6 [01:07<00:00, 11.25s/it, Loss=0.1240]\n",
            "Validating: 100%|██████████| 2/2 [00:05<00:00,  2.53s/it]\n"
          ]
        },
        {
          "output_type": "stream",
          "name": "stdout",
          "text": [
            "Train Loss: 0.1489, Val Loss: 0.2169, LR: 0.001000\n",
            "✅ New best model saved! Val Loss: 0.2169\n",
            "\n",
            "Epoch 6/50\n"
          ]
        },
        {
          "output_type": "stream",
          "name": "stderr",
          "text": [
            "Training: 100%|██████████| 6/6 [01:07<00:00, 11.27s/it, Loss=0.1193]\n",
            "Validating: 100%|██████████| 2/2 [00:06<00:00,  3.22s/it]\n"
          ]
        },
        {
          "output_type": "stream",
          "name": "stdout",
          "text": [
            "Train Loss: 0.1311, Val Loss: 0.2472, LR: 0.001000\n",
            "\n",
            "Epoch 7/50\n"
          ]
        },
        {
          "output_type": "stream",
          "name": "stderr",
          "text": [
            "Training: 100%|██████████| 6/6 [01:06<00:00, 11.15s/it, Loss=0.1075]\n",
            "Validating: 100%|██████████| 2/2 [00:05<00:00,  2.52s/it]\n"
          ]
        },
        {
          "output_type": "stream",
          "name": "stdout",
          "text": [
            "Train Loss: 0.1164, Val Loss: 0.1834, LR: 0.001000\n",
            "✅ New best model saved! Val Loss: 0.1834\n",
            "\n",
            "Epoch 8/50\n"
          ]
        },
        {
          "output_type": "stream",
          "name": "stderr",
          "text": [
            "Training: 100%|██████████| 6/6 [01:09<00:00, 11.64s/it, Loss=0.1240]\n",
            "Validating: 100%|██████████| 2/2 [00:06<00:00,  3.31s/it]\n"
          ]
        },
        {
          "output_type": "stream",
          "name": "stdout",
          "text": [
            "Train Loss: 0.1041, Val Loss: 0.1592, LR: 0.001000\n",
            "✅ New best model saved! Val Loss: 0.1592\n",
            "\n",
            "Epoch 9/50\n"
          ]
        },
        {
          "output_type": "stream",
          "name": "stderr",
          "text": [
            "Training: 100%|██████████| 6/6 [01:08<00:00, 11.37s/it, Loss=0.0968]\n",
            "Validating: 100%|██████████| 2/2 [00:06<00:00,  3.19s/it]\n"
          ]
        },
        {
          "output_type": "stream",
          "name": "stdout",
          "text": [
            "Train Loss: 0.0907, Val Loss: 0.1102, LR: 0.001000\n",
            "✅ New best model saved! Val Loss: 0.1102\n",
            "\n",
            "Epoch 10/50\n"
          ]
        },
        {
          "output_type": "stream",
          "name": "stderr",
          "text": [
            "Training: 100%|██████████| 6/6 [01:07<00:00, 11.30s/it, Loss=0.0660]\n",
            "Validating: 100%|██████████| 2/2 [00:06<00:00,  3.24s/it]\n"
          ]
        },
        {
          "output_type": "stream",
          "name": "stdout",
          "text": [
            "Train Loss: 0.0818, Val Loss: 0.0830, LR: 0.001000\n",
            "✅ New best model saved! Val Loss: 0.0830\n",
            "\n",
            "Epoch 11/50\n"
          ]
        },
        {
          "output_type": "stream",
          "name": "stderr",
          "text": [
            "Training: 100%|██████████| 6/6 [01:08<00:00, 11.34s/it, Loss=0.0602]\n",
            "Validating: 100%|██████████| 2/2 [00:05<00:00,  2.76s/it]\n"
          ]
        },
        {
          "output_type": "stream",
          "name": "stdout",
          "text": [
            "Train Loss: 0.0672, Val Loss: 0.0833, LR: 0.001000\n",
            "\n",
            "Epoch 12/50\n"
          ]
        },
        {
          "output_type": "stream",
          "name": "stderr",
          "text": [
            "Training: 100%|██████████| 6/6 [01:09<00:00, 11.61s/it, Loss=0.0796]\n",
            "Validating: 100%|██████████| 2/2 [00:06<00:00,  3.25s/it]\n"
          ]
        },
        {
          "output_type": "stream",
          "name": "stdout",
          "text": [
            "Train Loss: 0.0654, Val Loss: 0.0722, LR: 0.001000\n",
            "✅ New best model saved! Val Loss: 0.0722\n",
            "\n",
            "Epoch 13/50\n"
          ]
        },
        {
          "output_type": "stream",
          "name": "stderr",
          "text": [
            "Training: 100%|██████████| 6/6 [01:08<00:00, 11.44s/it, Loss=0.0592]\n",
            "Validating: 100%|██████████| 2/2 [00:04<00:00,  2.46s/it]\n"
          ]
        },
        {
          "output_type": "stream",
          "name": "stdout",
          "text": [
            "Train Loss: 0.0673, Val Loss: 0.0933, LR: 0.001000\n",
            "\n",
            "Epoch 14/50\n"
          ]
        },
        {
          "output_type": "stream",
          "name": "stderr",
          "text": [
            "Training: 100%|██████████| 6/6 [01:07<00:00, 11.27s/it, Loss=0.0438]\n",
            "Validating: 100%|██████████| 2/2 [00:06<00:00,  3.23s/it]\n"
          ]
        },
        {
          "output_type": "stream",
          "name": "stdout",
          "text": [
            "Train Loss: 0.0559, Val Loss: 0.0807, LR: 0.001000\n",
            "\n",
            "Epoch 15/50\n"
          ]
        },
        {
          "output_type": "stream",
          "name": "stderr",
          "text": [
            "Training: 100%|██████████| 6/6 [01:09<00:00, 11.60s/it, Loss=0.0496]\n",
            "Validating: 100%|██████████| 2/2 [00:10<00:00,  5.29s/it]\n"
          ]
        },
        {
          "output_type": "stream",
          "name": "stdout",
          "text": [
            "Train Loss: 0.0447, Val Loss: 0.0451, LR: 0.001000\n",
            "✅ New best model saved! Val Loss: 0.0451\n",
            "\n",
            "Epoch 16/50\n"
          ]
        },
        {
          "output_type": "stream",
          "name": "stderr",
          "text": [
            "Training: 100%|██████████| 6/6 [01:08<00:00, 11.36s/it, Loss=0.0573]\n",
            "Validating: 100%|██████████| 2/2 [00:05<00:00,  2.93s/it]\n"
          ]
        },
        {
          "output_type": "stream",
          "name": "stdout",
          "text": [
            "Train Loss: 0.0407, Val Loss: 0.0353, LR: 0.001000\n",
            "✅ New best model saved! Val Loss: 0.0353\n",
            "\n",
            "Epoch 17/50\n"
          ]
        },
        {
          "output_type": "stream",
          "name": "stderr",
          "text": [
            "Training: 100%|██████████| 6/6 [01:09<00:00, 11.55s/it, Loss=0.0368]\n",
            "Validating: 100%|██████████| 2/2 [00:04<00:00,  2.46s/it]\n"
          ]
        },
        {
          "output_type": "stream",
          "name": "stdout",
          "text": [
            "Train Loss: 0.0303, Val Loss: 0.0659, LR: 0.001000\n",
            "\n",
            "Epoch 18/50\n"
          ]
        },
        {
          "output_type": "stream",
          "name": "stderr",
          "text": [
            "Training: 100%|██████████| 6/6 [01:07<00:00, 11.25s/it, Loss=0.0270]\n",
            "Validating: 100%|██████████| 2/2 [00:06<00:00,  3.22s/it]\n"
          ]
        },
        {
          "output_type": "stream",
          "name": "stdout",
          "text": [
            "Train Loss: 0.0273, Val Loss: 0.0719, LR: 0.001000\n",
            "\n",
            "Epoch 19/50\n"
          ]
        },
        {
          "output_type": "stream",
          "name": "stderr",
          "text": [
            "Training: 100%|██████████| 6/6 [01:07<00:00, 11.22s/it, Loss=0.0180]\n",
            "Validating: 100%|██████████| 2/2 [00:05<00:00,  2.51s/it]\n"
          ]
        },
        {
          "output_type": "stream",
          "name": "stdout",
          "text": [
            "Train Loss: 0.0216, Val Loss: 0.0275, LR: 0.001000\n",
            "✅ New best model saved! Val Loss: 0.0275\n",
            "\n",
            "Epoch 20/50\n"
          ]
        },
        {
          "output_type": "stream",
          "name": "stderr",
          "text": [
            "Training: 100%|██████████| 6/6 [01:07<00:00, 11.32s/it, Loss=0.0211]\n",
            "Validating: 100%|██████████| 2/2 [00:06<00:00,  3.27s/it]\n"
          ]
        },
        {
          "output_type": "stream",
          "name": "stdout",
          "text": [
            "Train Loss: 0.0206, Val Loss: 0.0182, LR: 0.001000\n",
            "✅ New best model saved! Val Loss: 0.0182\n",
            "\n",
            "Epoch 21/50\n"
          ]
        },
        {
          "output_type": "stream",
          "name": "stderr",
          "text": [
            "Training: 100%|██████████| 6/6 [01:07<00:00, 11.33s/it, Loss=0.0140]\n",
            "Validating: 100%|██████████| 2/2 [00:06<00:00,  3.27s/it]\n"
          ]
        },
        {
          "output_type": "stream",
          "name": "stdout",
          "text": [
            "Train Loss: 0.0183, Val Loss: 0.0152, LR: 0.001000\n",
            "✅ New best model saved! Val Loss: 0.0152\n",
            "\n",
            "Epoch 22/50\n"
          ]
        },
        {
          "output_type": "stream",
          "name": "stderr",
          "text": [
            "Training: 100%|██████████| 6/6 [01:08<00:00, 11.34s/it, Loss=0.0135]\n",
            "Validating: 100%|██████████| 2/2 [00:05<00:00,  2.73s/it]\n"
          ]
        },
        {
          "output_type": "stream",
          "name": "stdout",
          "text": [
            "Train Loss: 0.0153, Val Loss: 0.0137, LR: 0.001000\n",
            "✅ New best model saved! Val Loss: 0.0137\n",
            "\n",
            "Epoch 23/50\n"
          ]
        },
        {
          "output_type": "stream",
          "name": "stderr",
          "text": [
            "Training: 100%|██████████| 6/6 [01:15<00:00, 12.52s/it, Loss=0.0150]\n",
            "Validating: 100%|██████████| 2/2 [00:05<00:00,  2.72s/it]\n"
          ]
        },
        {
          "output_type": "stream",
          "name": "stdout",
          "text": [
            "Train Loss: 0.0144, Val Loss: 0.0162, LR: 0.001000\n",
            "\n",
            "Epoch 24/50\n"
          ]
        },
        {
          "output_type": "stream",
          "name": "stderr",
          "text": [
            "Training: 100%|██████████| 6/6 [01:09<00:00, 11.53s/it, Loss=0.0127]\n",
            "Validating: 100%|██████████| 2/2 [00:04<00:00,  2.44s/it]\n"
          ]
        },
        {
          "output_type": "stream",
          "name": "stdout",
          "text": [
            "Train Loss: 0.0136, Val Loss: 0.0114, LR: 0.001000\n",
            "✅ New best model saved! Val Loss: 0.0114\n",
            "\n",
            "Epoch 25/50\n"
          ]
        },
        {
          "output_type": "stream",
          "name": "stderr",
          "text": [
            "Training: 100%|██████████| 6/6 [01:07<00:00, 11.27s/it, Loss=0.0403]\n",
            "Validating: 100%|██████████| 2/2 [00:04<00:00,  2.46s/it]\n"
          ]
        },
        {
          "output_type": "stream",
          "name": "stdout",
          "text": [
            "Train Loss: 0.0183, Val Loss: 0.0110, LR: 0.001000\n",
            "✅ New best model saved! Val Loss: 0.0110\n",
            "\n",
            "Epoch 26/50\n"
          ]
        },
        {
          "output_type": "stream",
          "name": "stderr",
          "text": [
            "Training: 100%|██████████| 6/6 [01:07<00:00, 11.32s/it, Loss=0.0133]\n",
            "Validating: 100%|██████████| 2/2 [00:06<00:00,  3.25s/it]\n"
          ]
        },
        {
          "output_type": "stream",
          "name": "stdout",
          "text": [
            "Train Loss: 0.0123, Val Loss: 0.0114, LR: 0.001000\n",
            "\n",
            "Epoch 27/50\n"
          ]
        },
        {
          "output_type": "stream",
          "name": "stderr",
          "text": [
            "Training: 100%|██████████| 6/6 [01:07<00:00, 11.32s/it, Loss=0.0198]\n",
            "Validating: 100%|██████████| 2/2 [00:04<00:00,  2.46s/it]\n"
          ]
        },
        {
          "output_type": "stream",
          "name": "stdout",
          "text": [
            "Train Loss: 0.0125, Val Loss: 0.0106, LR: 0.001000\n",
            "✅ New best model saved! Val Loss: 0.0106\n",
            "\n",
            "Epoch 28/50\n"
          ]
        },
        {
          "output_type": "stream",
          "name": "stderr",
          "text": [
            "Training: 100%|██████████| 6/6 [01:08<00:00, 11.36s/it, Loss=0.0128]\n",
            "Validating: 100%|██████████| 2/2 [00:06<00:00,  3.24s/it]\n"
          ]
        },
        {
          "output_type": "stream",
          "name": "stdout",
          "text": [
            "Train Loss: 0.0108, Val Loss: 0.0098, LR: 0.001000\n",
            "✅ New best model saved! Val Loss: 0.0098\n",
            "\n",
            "Epoch 29/50\n"
          ]
        },
        {
          "output_type": "stream",
          "name": "stderr",
          "text": [
            "Training: 100%|██████████| 6/6 [01:07<00:00, 11.24s/it, Loss=0.0117]\n",
            "Validating: 100%|██████████| 2/2 [00:06<00:00,  3.26s/it]\n"
          ]
        },
        {
          "output_type": "stream",
          "name": "stdout",
          "text": [
            "Train Loss: 0.0098, Val Loss: 0.0087, LR: 0.001000\n",
            "✅ New best model saved! Val Loss: 0.0087\n",
            "\n",
            "Epoch 30/50\n"
          ]
        },
        {
          "output_type": "stream",
          "name": "stderr",
          "text": [
            "Training: 100%|██████████| 6/6 [01:08<00:00, 11.45s/it, Loss=0.0089]\n",
            "Validating: 100%|██████████| 2/2 [00:05<00:00,  2.51s/it]\n"
          ]
        },
        {
          "output_type": "stream",
          "name": "stdout",
          "text": [
            "Train Loss: 0.0098, Val Loss: 0.0077, LR: 0.001000\n",
            "✅ New best model saved! Val Loss: 0.0077\n",
            "\n",
            "Epoch 31/50\n"
          ]
        },
        {
          "output_type": "stream",
          "name": "stderr",
          "text": [
            "Training: 100%|██████████| 6/6 [01:14<00:00, 12.47s/it, Loss=0.0161]\n",
            "Validating: 100%|██████████| 2/2 [00:06<00:00,  3.10s/it]\n"
          ]
        },
        {
          "output_type": "stream",
          "name": "stdout",
          "text": [
            "Train Loss: 0.0090, Val Loss: 0.0067, LR: 0.001000\n",
            "✅ New best model saved! Val Loss: 0.0067\n",
            "\n",
            "Epoch 32/50\n"
          ]
        },
        {
          "output_type": "stream",
          "name": "stderr",
          "text": [
            "Training: 100%|██████████| 6/6 [01:07<00:00, 11.29s/it, Loss=0.0099]\n",
            "Validating: 100%|██████████| 2/2 [00:06<00:00,  3.31s/it]\n"
          ]
        },
        {
          "output_type": "stream",
          "name": "stdout",
          "text": [
            "Train Loss: 0.0105, Val Loss: 0.0074, LR: 0.001000\n",
            "\n",
            "Epoch 33/50\n"
          ]
        },
        {
          "output_type": "stream",
          "name": "stderr",
          "text": [
            "Training: 100%|██████████| 6/6 [01:08<00:00, 11.34s/it, Loss=0.0072]\n",
            "Validating: 100%|██████████| 2/2 [00:06<00:00,  3.11s/it]\n"
          ]
        },
        {
          "output_type": "stream",
          "name": "stdout",
          "text": [
            "Train Loss: 0.0103, Val Loss: 0.0092, LR: 0.001000\n",
            "\n",
            "Epoch 34/50\n"
          ]
        },
        {
          "output_type": "stream",
          "name": "stderr",
          "text": [
            "Training: 100%|██████████| 6/6 [01:07<00:00, 11.29s/it, Loss=0.0137]\n",
            "Validating: 100%|██████████| 2/2 [00:05<00:00,  2.50s/it]\n"
          ]
        },
        {
          "output_type": "stream",
          "name": "stdout",
          "text": [
            "Train Loss: 0.0098, Val Loss: 0.0091, LR: 0.001000\n",
            "\n",
            "Epoch 35/50\n"
          ]
        },
        {
          "output_type": "stream",
          "name": "stderr",
          "text": [
            "Training: 100%|██████████| 6/6 [01:07<00:00, 11.24s/it, Loss=0.0100]\n",
            "Validating: 100%|██████████| 2/2 [00:06<00:00,  3.20s/it]\n"
          ]
        },
        {
          "output_type": "stream",
          "name": "stdout",
          "text": [
            "Train Loss: 0.0078, Val Loss: 0.0074, LR: 0.001000\n",
            "\n",
            "Epoch 36/50\n"
          ]
        },
        {
          "output_type": "stream",
          "name": "stderr",
          "text": [
            "Training: 100%|██████████| 6/6 [01:07<00:00, 11.32s/it, Loss=0.0076]\n",
            "Validating: 100%|██████████| 2/2 [00:06<00:00,  3.17s/it]\n"
          ]
        },
        {
          "output_type": "stream",
          "name": "stdout",
          "text": [
            "Train Loss: 0.0079, Val Loss: 0.0064, LR: 0.001000\n",
            "✅ New best model saved! Val Loss: 0.0064\n",
            "\n",
            "Epoch 37/50\n"
          ]
        },
        {
          "output_type": "stream",
          "name": "stderr",
          "text": [
            "Training: 100%|██████████| 6/6 [01:07<00:00, 11.32s/it, Loss=0.0069]\n",
            "Validating: 100%|██████████| 2/2 [00:06<00:00,  3.23s/it]\n"
          ]
        },
        {
          "output_type": "stream",
          "name": "stdout",
          "text": [
            "Train Loss: 0.0067, Val Loss: 0.0055, LR: 0.001000\n",
            "✅ New best model saved! Val Loss: 0.0055\n",
            "\n",
            "Epoch 38/50\n"
          ]
        },
        {
          "output_type": "stream",
          "name": "stderr",
          "text": [
            "Training: 100%|██████████| 6/6 [01:07<00:00, 11.21s/it, Loss=0.0074]\n",
            "Validating: 100%|██████████| 2/2 [00:06<00:00,  3.15s/it]\n"
          ]
        },
        {
          "output_type": "stream",
          "name": "stdout",
          "text": [
            "Train Loss: 0.0063, Val Loss: 0.0052, LR: 0.001000\n",
            "✅ New best model saved! Val Loss: 0.0052\n",
            "\n",
            "Epoch 39/50\n"
          ]
        },
        {
          "output_type": "stream",
          "name": "stderr",
          "text": [
            "Training: 100%|██████████| 6/6 [01:16<00:00, 12.71s/it, Loss=0.0104]\n",
            "Validating: 100%|██████████| 2/2 [00:05<00:00,  2.60s/it]\n"
          ]
        },
        {
          "output_type": "stream",
          "name": "stdout",
          "text": [
            "Train Loss: 0.0078, Val Loss: 0.0048, LR: 0.001000\n",
            "✅ New best model saved! Val Loss: 0.0048\n",
            "\n",
            "Epoch 40/50\n"
          ]
        },
        {
          "output_type": "stream",
          "name": "stderr",
          "text": [
            "Training: 100%|██████████| 6/6 [01:08<00:00, 11.41s/it, Loss=0.0080]\n",
            "Validating: 100%|██████████| 2/2 [00:06<00:00,  3.14s/it]\n"
          ]
        },
        {
          "output_type": "stream",
          "name": "stdout",
          "text": [
            "Train Loss: 0.0066, Val Loss: 0.0057, LR: 0.001000\n",
            "\n",
            "Epoch 41/50\n"
          ]
        },
        {
          "output_type": "stream",
          "name": "stderr",
          "text": [
            "Training: 100%|██████████| 6/6 [01:07<00:00, 11.33s/it, Loss=0.0092]\n",
            "Validating: 100%|██████████| 2/2 [00:05<00:00,  2.55s/it]\n"
          ]
        },
        {
          "output_type": "stream",
          "name": "stdout",
          "text": [
            "Train Loss: 0.0067, Val Loss: 0.0051, LR: 0.001000\n",
            "\n",
            "Epoch 42/50\n"
          ]
        },
        {
          "output_type": "stream",
          "name": "stderr",
          "text": [
            "Training: 100%|██████████| 6/6 [01:07<00:00, 11.31s/it, Loss=0.0052]\n",
            "Validating: 100%|██████████| 2/2 [00:05<00:00,  2.98s/it]\n"
          ]
        },
        {
          "output_type": "stream",
          "name": "stdout",
          "text": [
            "Train Loss: 0.0058, Val Loss: 0.0043, LR: 0.001000\n",
            "✅ New best model saved! Val Loss: 0.0043\n",
            "\n",
            "Epoch 43/50\n"
          ]
        },
        {
          "output_type": "stream",
          "name": "stderr",
          "text": [
            "Training: 100%|██████████| 6/6 [01:08<00:00, 11.49s/it, Loss=0.0141]\n",
            "Validating: 100%|██████████| 2/2 [00:04<00:00,  2.39s/it]\n"
          ]
        },
        {
          "output_type": "stream",
          "name": "stdout",
          "text": [
            "Train Loss: 0.0067, Val Loss: 0.0052, LR: 0.001000\n",
            "\n",
            "Epoch 44/50\n"
          ]
        },
        {
          "output_type": "stream",
          "name": "stderr",
          "text": [
            "Training: 100%|██████████| 6/6 [01:07<00:00, 11.26s/it, Loss=0.0070]\n",
            "Validating: 100%|██████████| 2/2 [00:06<00:00,  3.28s/it]\n"
          ]
        },
        {
          "output_type": "stream",
          "name": "stdout",
          "text": [
            "Train Loss: 0.0054, Val Loss: 0.0051, LR: 0.001000\n",
            "\n",
            "Epoch 45/50\n"
          ]
        },
        {
          "output_type": "stream",
          "name": "stderr",
          "text": [
            "Training: 100%|██████████| 6/6 [01:07<00:00, 11.32s/it, Loss=0.0069]\n",
            "Validating: 100%|██████████| 2/2 [00:06<00:00,  3.04s/it]\n"
          ]
        },
        {
          "output_type": "stream",
          "name": "stdout",
          "text": [
            "Train Loss: 0.0067, Val Loss: 0.0049, LR: 0.001000\n",
            "\n",
            "Epoch 46/50\n"
          ]
        },
        {
          "output_type": "stream",
          "name": "stderr",
          "text": [
            "Training: 100%|██████████| 6/6 [01:08<00:00, 11.34s/it, Loss=0.0105]\n",
            "Validating: 100%|██████████| 2/2 [00:05<00:00,  2.53s/it]\n"
          ]
        },
        {
          "output_type": "stream",
          "name": "stdout",
          "text": [
            "Train Loss: 0.0060, Val Loss: 0.0042, LR: 0.001000\n",
            "✅ New best model saved! Val Loss: 0.0042\n",
            "\n",
            "Epoch 47/50\n"
          ]
        },
        {
          "output_type": "stream",
          "name": "stderr",
          "text": [
            "Training: 100%|██████████| 6/6 [01:15<00:00, 12.61s/it, Loss=0.0052]\n",
            "Validating: 100%|██████████| 2/2 [00:06<00:00,  3.28s/it]\n"
          ]
        },
        {
          "output_type": "stream",
          "name": "stdout",
          "text": [
            "Train Loss: 0.0052, Val Loss: 0.0050, LR: 0.001000\n",
            "\n",
            "Epoch 48/50\n"
          ]
        },
        {
          "output_type": "stream",
          "name": "stderr",
          "text": [
            "Training: 100%|██████████| 6/6 [01:08<00:00, 11.46s/it, Loss=0.0077]\n",
            "Validating: 100%|██████████| 2/2 [00:06<00:00,  3.28s/it]\n"
          ]
        },
        {
          "output_type": "stream",
          "name": "stdout",
          "text": [
            "Train Loss: 0.0052, Val Loss: 0.0051, LR: 0.001000\n",
            "\n",
            "Epoch 49/50\n"
          ]
        },
        {
          "output_type": "stream",
          "name": "stderr",
          "text": [
            "Training: 100%|██████████| 6/6 [01:07<00:00, 11.28s/it, Loss=0.0122]\n",
            "Validating: 100%|██████████| 2/2 [00:05<00:00,  2.52s/it]\n"
          ]
        },
        {
          "output_type": "stream",
          "name": "stdout",
          "text": [
            "Train Loss: 0.0059, Val Loss: 0.0040, LR: 0.001000\n",
            "✅ New best model saved! Val Loss: 0.0040\n",
            "\n",
            "Epoch 50/50\n"
          ]
        },
        {
          "output_type": "stream",
          "name": "stderr",
          "text": [
            "Training: 100%|██████████| 6/6 [01:08<00:00, 11.45s/it, Loss=0.0052]\n",
            "Validating: 100%|██████████| 2/2 [00:06<00:00,  3.28s/it]"
          ]
        },
        {
          "output_type": "stream",
          "name": "stdout",
          "text": [
            "Train Loss: 0.0048, Val Loss: 0.0042, LR: 0.001000\n",
            "\n",
            "🎉 Training completed!\n"
          ]
        },
        {
          "output_type": "stream",
          "name": "stderr",
          "text": [
            "\n"
          ]
        }
      ]
    },
    {
      "cell_type": "code",
      "source": [
        "def test_inference(model, val_loader, device, num_samples=6):\n",
        "    \"\"\"Test inference on validation data\"\"\"\n",
        "    model.eval()\n",
        "\n",
        "    # Get a batch\n",
        "    batch = next(iter(val_loader))\n",
        "\n",
        "    with torch.no_grad():\n",
        "        inputs = batch['input'].to(device)\n",
        "        targets = batch['target'].to(device)\n",
        "        color_indices = batch['color_idx'].to(device)\n",
        "\n",
        "        # Get predictions\n",
        "        outputs = model(inputs, color_indices)\n",
        "\n",
        "    # Visualize results\n",
        "    fig, axes = plt.subplots(3, num_samples, figsize=(3*num_samples, 9))\n",
        "\n",
        "    for i in range(min(num_samples, len(inputs))):\n",
        "        # Input\n",
        "        input_img = inputs[i].cpu().squeeze().numpy()\n",
        "        axes[0, i].imshow(input_img, cmap='gray')\n",
        "        axes[0, i].set_title(f'Input: {batch[\"color_name\"][i]}')\n",
        "        axes[0, i].axis('off')\n",
        "\n",
        "        # Target\n",
        "        target_img = targets[i].cpu().permute(1, 2, 0).numpy()\n",
        "        axes[1, i].imshow(target_img)\n",
        "        axes[1, i].set_title('Target')\n",
        "        axes[1, i].axis('off')\n",
        "\n",
        "        # Prediction\n",
        "        pred_img = outputs[i].cpu().permute(1, 2, 0).numpy()\n",
        "        pred_img = np.clip(pred_img, 0, 1)\n",
        "        axes[2, i].imshow(pred_img)\n",
        "        axes[2, i].set_title('Prediction')\n",
        "        axes[2, i].axis('off')\n",
        "\n",
        "    plt.tight_layout()\n",
        "    plt.show()\n",
        "\n",
        "# Load best model and test\n",
        "checkpoint = torch.load('best_unet_model.pth', map_location=device)\n",
        "model.load_state_dict(checkpoint['model_state_dict'])\n",
        "\n",
        "print(\"Testing inference on validation data:\")\n",
        "test_inference(model, val_loader, device)\n"
      ],
      "metadata": {
        "colab": {
          "base_uri": "https://localhost:8080/",
          "height": 741
        },
        "id": "qPtj7B71QErK",
        "outputId": "897bbcc7-2a17-4130-d77b-2da839b2608b"
      },
      "execution_count": 19,
      "outputs": [
        {
          "output_type": "stream",
          "name": "stdout",
          "text": [
            "Testing inference on validation data:\n"
          ]
        },
        {
          "output_type": "stream",
          "name": "stderr",
          "text": [
            "/tmp/ipython-input-2954167942.py:110: DeprecationWarning: 'mode' parameter is deprecated and will be removed in Pillow 13 (2026-10-15)\n",
            "  img_pil = Image.fromarray(img, mode='L')\n",
            "/tmp/ipython-input-2954167942.py:150: DeprecationWarning: 'mode' parameter is deprecated and will be removed in Pillow 13 (2026-10-15)\n",
            "  return Image.fromarray(target_rgb, mode='RGB')\n",
            "/tmp/ipython-input-2954167942.py:133: DeprecationWarning: 'mode' parameter is deprecated and will be removed in Pillow 13 (2026-10-15)\n",
            "  return Image.fromarray(img, mode='L')\n",
            "/tmp/ipython-input-2954167942.py:124: DeprecationWarning: 'mode' parameter is deprecated and will be removed in Pillow 13 (2026-10-15)\n",
            "  img_pil = Image.fromarray(img, mode='L')\n",
            "/tmp/ipython-input-2954167942.py:117: DeprecationWarning: 'mode' parameter is deprecated and will be removed in Pillow 13 (2026-10-15)\n",
            "  img_pil = Image.fromarray(img, mode='L')\n"
          ]
        },
        {
          "output_type": "display_data",
          "data": {
            "text/plain": [
              "<Figure size 1800x900 with 18 Axes>"
            ],
            "image/png": "[encoded data removed]"
          },
          "metadata": {}
        }
      ]
    },
    {
      "cell_type": "code",
      "source": [
        "torch.save({\n",
        "    'model_state_dict': model.state_dict(),\n",
        "    'color_map': train_dataset.color_map,\n",
        "    'color_rgb': train_dataset.color_rgb,\n",
        "    'image_size': 128,\n",
        "    'final_train_loss': train_losses[-1],\n",
        "    'final_val_loss': val_losses[-1],\n",
        "    'best_val_loss': best_val_loss\n",
        "}, 'unet_model_final.pth')\n",
        "\n",
        "print(\"✅ Final model saved as 'unet_model_final.pth'\")\n",
        "\n",
        "# Download the model\n",
        "files.download('unet_model_final.pth')\n",
        "files.download('best_unet_model.pth')\n",
        "\n",
        "print(\"Training complete! Model files downloaded.\")"
      ],
      "metadata": {
        "colab": {
          "base_uri": "https://localhost:8080/",
          "height": 51
        },
        "id": "E1MJSK2qjMoO",
        "outputId": "d7a4e468-fcde-43c3-a54f-dea8713b3097"
      },
      "execution_count": 20,
      "outputs": [
        {
          "output_type": "stream",
          "name": "stdout",
          "text": [
            "✅ Final model saved as 'unet_model_final.pth'\n"
          ]
        },
        {
          "output_type": "display_data",
          "data": {
            "text/plain": [
              "<IPython.core.display.Javascript object>"
            ],
            "application/javascript": [
              "\n",
              "    async function download(id, filename, size) {\n",
              "      if (!google.colab.kernel.accessAllowed) {\n",
              "        return;\n",
              "      }\n",
              "      const div = document.createElement('div');\n",
              "      const label = document.createElement('label');\n",
              "      label.textContent = `Downloading \"${filename}\": `;\n",
              "      div.appendChild(label);\n",
              "      const progress = document.createElement('progress');\n",
              "      progress.max = size;\n",
              "      div.appendChild(progress);\n",
              "      document.body.appendChild(div);\n",
              "\n",
              "      const buffers = [];\n",
              "      let downloaded = 0;\n",
              "\n",
              "      const channel = await google.colab.kernel.comms.open(id);\n",
              "      // Send a message to notify the kernel that we're ready.\n",
              "      channel.send({})\n",
              "\n",
              "      for await (const message of channel.messages) {\n",
              "        // Send a message to notify the kernel that we're ready.\n",
              "        channel.send({})\n",
              "        if (message.buffers) {\n",
              "          for (const buffer of message.buffers) {\n",
              "            buffers.push(buffer);\n",
              "            downloaded += buffer.byteLength;\n",
              "            progress.value = downloaded;\n",
              "          }\n",
              "        }\n",
              "      }\n",
              "      const blob = new Blob(buffers, {type: 'application/binary'});\n",
              "      const a = document.createElement('a');\n",
              "      a.href = window.URL.createObjectURL(blob);\n",
              "      a.download = filename;\n",
              "      div.appendChild(a);\n",
              "      a.click();\n",
              "      div.remove();\n",
              "    }\n",
              "  "
            ]
          },
          "metadata": {}
        },
        {
          "output_type": "display_data",
          "data": {
            "text/plain": [
              "<IPython.core.display.Javascript object>"
            ],
            "application/javascript": [
              "download(\"download_a7b9f9ee-6cdd-4cc4-8ac4-a3023051d1bb\", \"unet_model_final.pth\", 124412373)"
            ]
          },
          "metadata": {}
        },
        {
          "output_type": "display_data",
          "data": {
            "text/plain": [
              "<IPython.core.display.Javascript object>"
            ],
            "application/javascript": [
              "\n",
              "    async function download(id, filename, size) {\n",
              "      if (!google.colab.kernel.accessAllowed) {\n",
              "        return;\n",
              "      }\n",
              "      const div = document.createElement('div');\n",
              "      const label = document.createElement('label');\n",
              "      label.textContent = `Downloading \"${filename}\": `;\n",
              "      div.appendChild(label);\n",
              "      const progress = document.createElement('progress');\n",
              "      progress.max = size;\n",
              "      div.appendChild(progress);\n",
              "      document.body.appendChild(div);\n",
              "\n",
              "      const buffers = [];\n",
              "      let downloaded = 0;\n",
              "\n",
              "      const channel = await google.colab.kernel.comms.open(id);\n",
              "      // Send a message to notify the kernel that we're ready.\n",
              "      channel.send({})\n",
              "\n",
              "      for await (const message of channel.messages) {\n",
              "        // Send a message to notify the kernel that we're ready.\n",
              "        channel.send({})\n",
              "        if (message.buffers) {\n",
              "          for (const buffer of message.buffers) {\n",
              "            buffers.push(buffer);\n",
              "            downloaded += buffer.byteLength;\n",
              "            progress.value = downloaded;\n",
              "          }\n",
              "        }\n",
              "      }\n",
              "      const blob = new Blob(buffers, {type: 'application/binary'});\n",
              "      const a = document.createElement('a');\n",
              "      a.href = window.URL.createObjectURL(blob);\n",
              "      a.download = filename;\n",
              "      div.appendChild(a);\n",
              "      a.click();\n",
              "      div.remove();\n",
              "    }\n",
              "  "
            ]
          },
          "metadata": {}
        },
        {
          "output_type": "display_data",
          "data": {
            "text/plain": [
              "<IPython.core.display.Javascript object>"
            ],
            "application/javascript": [
              "download(\"download_717421f8-0b09-477d-8927-e4cc8f1a9427\", \"best_unet_model.pth\", 373120478)"
            ]
          },
          "metadata": {}
        },
        {
          "output_type": "stream",
          "name": "stdout",
          "text": [
            "Training complete! Model files downloaded.\n"
          ]
        }
      ]
    }
  ]
}